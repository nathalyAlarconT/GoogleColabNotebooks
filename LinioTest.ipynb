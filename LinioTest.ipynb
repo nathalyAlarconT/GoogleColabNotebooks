{
  "nbformat": 4,
  "nbformat_minor": 0,
  "metadata": {
    "colab": {
      "name": "LinioTest.ipynb",
      "version": "0.3.2",
      "provenance": [],
      "collapsed_sections": []
    }
  },
  "cells": [
    {
      "cell_type": "markdown",
      "metadata": {
        "id": "view-in-github",
        "colab_type": "text"
      },
      "source": [
        "[View in Colaboratory](https://colab.research.google.com/github/nathalyAlarconT/GoogleColabNotebooks/blob/master/LinioTest.ipynb)"
      ]
    },
    {
      "metadata": {
        "id": "T99LxHt3sBrz",
        "colab_type": "text"
      },
      "cell_type": "markdown",
      "source": [
        "# LINIO - Challenge - Backend Developer\n",
        "\n",
        "Write a program that prints all the numbers from 1 to 100. \n",
        "However, \n",
        "* for multiples of 3, instead of the number, print \"Linio\". \n",
        "* For multiples of 5 print \"IT\". \n",
        "* For numbers which are multiples of both 3 and 5, print \"Linianos\".\n",
        "\n",
        "But here's the catch: you can use only one `if`. No multiple branches, \n",
        "ternary operators or `else`.\n",
        "\n",
        "# Requirements\n",
        "* 1 if\n",
        "* You can't use `else`, `else if` or ternary\n",
        "* Unit tests\n",
        "* Feel free to apply your SOLID knowledge\n",
        "* You can write the challenge in any language you want. Here at Linio we are\n",
        "big fans of PHP, Kotlin and TypeScript\n",
        "\n",
        "# Submission\n",
        "You can create a public repository on your GitHub account and send the\n",
        "link to us, or just send us a zip file.\n",
        "\n",
        "\n"
      ]
    },
    {
      "metadata": {
        "id": "1Ce2zx_al8Xe",
        "colab_type": "text"
      },
      "cell_type": "markdown",
      "source": [
        "`**By: Nathaly Alarcón **`\n",
        "[Linkedin: https://www.linkedin.com/in/nathalyalarcon/](https://www.linkedin.com/in/nathalyalarcon/)\n",
        "\n"
      ]
    },
    {
      "metadata": {
        "id": "sv4LlT91Sf_x",
        "colab_type": "code",
        "colab": {}
      },
      "cell_type": "code",
      "source": [
        "# Limit of the sequence\n",
        "sequence_limit = 100"
      ],
      "execution_count": 0,
      "outputs": []
    },
    {
      "metadata": {
        "id": "-1im8hHpcFl5",
        "colab_type": "text"
      },
      "cell_type": "markdown",
      "source": [
        "**Unit Tests **"
      ]
    },
    {
      "metadata": {
        "id": "tcdT2ks5TFm5",
        "colab_type": "code",
        "colab": {
          "base_uri": "https://localhost:8080/",
          "height": 1717
        },
        "outputId": "49dd616f-f920-4f92-f2a2-5922fcab3192"
      },
      "cell_type": "code",
      "source": [
        "def get_sequence_value(num):\n",
        "    \"\"\" This function will retrieve the series value\n",
        "    @param num (integer) index of the sequence where we need to return the value\n",
        "    \n",
        "    @return Sequence value at that position\n",
        "    \"\"\"\n",
        "    # Definition of dictionary for multiples of 3 \n",
        "    mod3_label = {0: 'Linio'}  \n",
        "    # Definition of dictionary for multiples of 5\n",
        "    mod5_label = {0: 'IT'}\n",
        "    # General Dictionary this will include the options of multiple of 3, multiple of 5 and both\n",
        "    both = {'Linio' : 'Linio', 'IT': 'IT', 'LinioIT' : 'Linianos'}\n",
        "    \n",
        "    \n",
        "    \n",
        "    try:\n",
        "      # To generate the series value, we will concatenate the mod result of 3 and 5\n",
        "      serie = mod3_label.get(num % 3, '') + mod5_label.get(num % 5, '')\n",
        "      # and we will check the result on the general dictionary both\n",
        "      serie = both.get(serie, num)\n",
        "      return serie\n",
        "    except Exception as e:\n",
        "      print(\"Error on execution: [\" + str(e)+ \"]\")\n",
        "\n",
        "      \n",
        "      \n",
        "      \n",
        "      \n",
        "      \n",
        "# Let's execute the function!\n",
        "for num in range(1,sequence_limit + 1):\n",
        "    print(get_sequence_value(num))"
      ],
      "execution_count": 2,
      "outputs": [
        {
          "output_type": "stream",
          "text": [
            "1\n",
            "2\n",
            "Linio\n",
            "4\n",
            "IT\n",
            "Linio\n",
            "7\n",
            "8\n",
            "Linio\n",
            "IT\n",
            "11\n",
            "Linio\n",
            "13\n",
            "14\n",
            "Linianos\n",
            "16\n",
            "17\n",
            "Linio\n",
            "19\n",
            "IT\n",
            "Linio\n",
            "22\n",
            "23\n",
            "Linio\n",
            "IT\n",
            "26\n",
            "Linio\n",
            "28\n",
            "29\n",
            "Linianos\n",
            "31\n",
            "32\n",
            "Linio\n",
            "34\n",
            "IT\n",
            "Linio\n",
            "37\n",
            "38\n",
            "Linio\n",
            "IT\n",
            "41\n",
            "Linio\n",
            "43\n",
            "44\n",
            "Linianos\n",
            "46\n",
            "47\n",
            "Linio\n",
            "49\n",
            "IT\n",
            "Linio\n",
            "52\n",
            "53\n",
            "Linio\n",
            "IT\n",
            "56\n",
            "Linio\n",
            "58\n",
            "59\n",
            "Linianos\n",
            "61\n",
            "62\n",
            "Linio\n",
            "64\n",
            "IT\n",
            "Linio\n",
            "67\n",
            "68\n",
            "Linio\n",
            "IT\n",
            "71\n",
            "Linio\n",
            "73\n",
            "74\n",
            "Linianos\n",
            "76\n",
            "77\n",
            "Linio\n",
            "79\n",
            "IT\n",
            "Linio\n",
            "82\n",
            "83\n",
            "Linio\n",
            "IT\n",
            "86\n",
            "Linio\n",
            "88\n",
            "89\n",
            "Linianos\n",
            "91\n",
            "92\n",
            "Linio\n",
            "94\n",
            "IT\n",
            "Linio\n",
            "97\n",
            "98\n",
            "Linio\n",
            "IT\n"
          ],
          "name": "stdout"
        }
      ]
    },
    {
      "metadata": {
        "id": "kE2S6HDNr26L",
        "colab_type": "code",
        "colab": {}
      },
      "cell_type": "code",
      "source": [
        "## Unit Tests\n",
        "import unittest\n",
        "\n",
        "class MyTest(unittest.TestCase):\n",
        "    def testMultThree(self):\n",
        "        # If the number is multiple of 3, then print 'Linio'\n",
        "        testNum = 3\n",
        "        self.assertEqual(get_sequence_value(testNum),'Linio')\n",
        "    def testMultFive(self):\n",
        "        # If the number is multiple of 5, then print 'IT'\n",
        "        testNum = 10\n",
        "        self.assertEqual(get_sequence_value(testNum),'IT')\n",
        "    def testMultThreeFive(self):\n",
        "        # If the number is multiple of 3 and 5, then print 'Linianos'\n",
        "        testNum = 15\n",
        "        self.assertEqual(get_sequence_value(testNum), 'Linianos')\n",
        "    def testRegularNumber(self):\n",
        "        # If the number is not multiple of 3 or 5, the return the same number\n",
        "        self.assertEqual(get_sequence_value(2), 2)\n",
        "        "
      ],
      "execution_count": 0,
      "outputs": []
    },
    {
      "metadata": {
        "id": "wxWSmMH_bwGE",
        "colab_type": "code",
        "colab": {
          "base_uri": "https://localhost:8080/",
          "height": 102
        },
        "outputId": "5088a064-6289-4f6c-e5c1-cdb3a4fb1729"
      },
      "cell_type": "code",
      "source": [
        "# Unit Tests Execution\n",
        "if __name__ == '__main__':\n",
        "    unittest.main(argv=['first-arg-is-ignored'], exit=False)"
      ],
      "execution_count": 4,
      "outputs": [
        {
          "output_type": "stream",
          "text": [
            "....\n",
            "----------------------------------------------------------------------\n",
            "Ran 4 tests in 0.011s\n",
            "\n",
            "OK\n"
          ],
          "name": "stderr"
        }
      ]
    },
    {
      "metadata": {
        "id": "5Z_KzJkwjxw2",
        "colab_type": "code",
        "colab": {}
      },
      "cell_type": "code",
      "source": [
        ""
      ],
      "execution_count": 0,
      "outputs": []
    }
  ]
}